{
 "cells": [
  {
   "cell_type": "code",
   "execution_count": 1,
   "metadata": {},
   "outputs": [],
   "source": [
    "import pandas as pd\n",
    "import geopandas as gpd\n",
    "from sqlalchemy import create_engine, TIMESTAMP"
   ]
  },
  {
   "cell_type": "code",
   "execution_count": 2,
   "metadata": {},
   "outputs": [],
   "source": [
    "DATABASE_TYPE=\"postgresql\"\n",
    "USERNAME=\"adminff\"\n",
    "PASSWORD=\"ffmodeling\"\n",
    "HOST=\"localhost\"\n",
    "PORT=5433\n",
    "DATABASE_NAME=\"ff\"\n",
    "FIRE_TABLE_NAME=\"fire\""
   ]
  },
  {
   "cell_type": "code",
   "execution_count": 3,
   "metadata": {},
   "outputs": [],
   "source": [
    "engine = create_engine(f\"{DATABASE_TYPE}://{USERNAME}:{PASSWORD}@{HOST}:{PORT}/{DATABASE_NAME}\")"
   ]
  },
  {
   "cell_type": "code",
   "execution_count": 4,
   "metadata": {},
   "outputs": [],
   "source": [
    "sql_dtypes = {\n",
    "    \"REP_DATE\": TIMESTAMP,\n",
    "    \"ACQ_DATE\": TIMESTAMP,\n",
    "    \"POLY_DATE\": TIMESTAMP,\n",
    "}"
   ]
  },
  {
   "cell_type": "code",
   "execution_count": 8,
   "metadata": {},
   "outputs": [],
   "source": [
    "FIRE_SHAPE_FILE = \"../data/fire/NFDB_poly/NFDB_poly_20210707.shp\""
   ]
  },
  {
   "cell_type": "code",
   "execution_count": 9,
   "metadata": {},
   "outputs": [],
   "source": [
    "fire_gdf = gpd.read_file(FIRE_SHAPE_FILE)\n",
    "fire_gdf = fire_gdf.to_crs(\"EPSG:4326\")"
   ]
  },
  {
   "cell_type": "code",
   "execution_count": 7,
   "metadata": {},
   "outputs": [],
   "source": [
    "# convert to datetime\n",
    "fire_gdf['REP_DATE'] = pd.to_datetime(fire_gdf['REP_DATE'], format='%Y-%m-%d')\n",
    "fire_gdf['ACQ_DATE'] = pd.to_datetime(fire_gdf['ACQ_DATE'], format='%Y-%m-%d')\n",
    "fire_gdf['POLY_DATE'] = pd.to_datetime(fire_gdf['POLY_DATE'], format='%Y-%m-%d')"
   ]
  },
  {
   "cell_type": "code",
   "execution_count": 8,
   "metadata": {},
   "outputs": [],
   "source": [
    "# # filter to only lighting \n",
    "# fire_gdf = fire_gdf[fire_gdf[\"CAUSE\"] == 'L']"
   ]
  },
  {
   "cell_type": "code",
   "execution_count": 9,
   "metadata": {},
   "outputs": [],
   "source": [
    "# drop duplicates\n",
    "fire_gdf.drop_duplicates(inplace=True)"
   ]
  },
  {
   "cell_type": "code",
   "execution_count": 10,
   "metadata": {},
   "outputs": [],
   "source": [
    "fire_gdf.to_postgis(name=FIRE_TABLE_NAME, con=engine, if_exists='replace', index=False, dtype=sql_dtypes)"
   ]
  },
  {
   "cell_type": "code",
   "execution_count": null,
   "metadata": {},
   "outputs": [],
   "source": []
  }
 ],
 "metadata": {
  "kernelspec": {
   "display_name": ".venv",
   "language": "python",
   "name": "python3"
  },
  "language_info": {
   "codemirror_mode": {
    "name": "ipython",
    "version": 3
   },
   "file_extension": ".py",
   "mimetype": "text/x-python",
   "name": "python",
   "nbconvert_exporter": "python",
   "pygments_lexer": "ipython3",
   "version": "3.10.6"
  },
  "orig_nbformat": 4
 },
 "nbformat": 4,
 "nbformat_minor": 2
}
